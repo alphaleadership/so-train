{
 "cells": [
  {
   "cell_type": "markdown",
   "metadata": {},
   "source": [
    "## Before training\n",
    "\n",
    "This program saves the last 3 generations of models to Google Drive. Since 1 generation of models is >1GB, you should have at least 3GB of free space in Google Drive. If you do not have such free space, it is recommended to create another Google Account.\n",
    "\n",
    "Training requires >10GB VRAM. (T4 should be enough) Inference does not require such a lot of VRAM."
   ]
  },
  {
   "cell_type": "markdown",
   "metadata": {},
   "source": [
    "## Installation"
   ]
  },
  {
   "cell_type": "code",
   "execution_count": null,
   "metadata": {},
   "outputs": [],
   "source": [
    "#@title Check GPU\n",
    "!nvidia-smi\n",
    "#@title Install dependencies\n",
    "#@markdown pip may fail to resolve dependencies and raise ERROR, but it can be ignored.\n",
    "!python -m pip install -U pip wheel\n",
    "%pip install -U ipython \n",
    "\n",
    "#@markdown Branch (for development)\n",
    "BRANCH = \"none\" #@param {\"type\": \"string\"}\n",
    "if BRANCH == \"none\":\n",
    "    %pip install -U so-vits-svc-fork\n",
    "else:\n",
    "    %pip install -U git+https://github.com/34j/so-vits-svc-fork.git@{BRANCH}\n",
    "!git clone https://github.com/alphaleadership/so-train\n",
    "!cd so-train\n",
    "!svc pre-split\n",
    "!svc pre-resample\n",
    "!svc pre-config\n",
    "!svc pre-hubert\n",
    "!svc train -t\n",
    "!git add * */*\n",
    "!git commit -m \"training\"\n",
    "!git lfs push "
   ]
  }
 ],
 "metadata": {
  "accelerator": "GPU",
  "colab": {
   "provenance": []
  },
  "gpuClass": "standard",
  "kernelspec": {
   "display_name": "Python 3",
   "name": "python3"
  },
  "language_info": {
   "codemirror_mode": {
    "name": "ipython",
    "version": 3
   },
   "file_extension": ".py",
   "mimetype": "text/x-python",
   "name": "python",
   "nbconvert_exporter": "python",
   "pygments_lexer": "ipython3"
  }
 },
 "nbformat": 4,
 "nbformat_minor": 0
}
